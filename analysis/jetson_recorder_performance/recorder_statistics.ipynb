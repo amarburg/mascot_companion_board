{
 "cells": [
  {
   "cell_type": "code",
   "execution_count": 1,
   "metadata": {
    "collapsed": true
   },
   "outputs": [],
   "source": [
    "%matplotlib inline\n",
    "import pandas as pd\n",
    "import numpy as np\n",
    "import matplotlib.pyplot as plt"
   ]
  },
  {
   "cell_type": "code",
   "execution_count": 18,
   "metadata": {
    "collapsed": false
   },
   "outputs": [
    {
     "data": {
      "text/plain": [
       "resolution     object\n",
       "nom_fps         int64\n",
       "display          bool\n",
       "num_frames      int64\n",
       "duration      float64\n",
       "filesize      float64\n",
       "dtype: object"
      ]
     },
     "execution_count": 18,
     "metadata": {},
     "output_type": "execute_result"
    }
   ],
   "source": [
    "data = pd.read_csv('recorder_stats.csv', names=['resolution','nom_fps','display','num_frames','duration','filesize',])\n",
    "#data.rename(columns={\"# system_time_sec\":\"system_time_sec\"}, inplace=True )\n",
    "data['display'] = data['display'] == \"display\"\n",
    "data.dtypes"
   ]
  },
  {
   "cell_type": "code",
   "execution_count": 25,
   "metadata": {
    "collapsed": false
   },
   "outputs": [],
   "source": [
    "hd1080 = data[ data['resolution'] == 'HD1080' ]\n",
    "hd1080_gui = hd1080[ hd1080['display'] == True ]\n",
    "hd1080_nogui = hd1080[ hd1080['display'] == False ]\n",
    "\n",
    "hd720 = data[ data['resolution'] == 'HD720' ]\n",
    "hd720_gui = hd720[ hd720['display'] == True ]\n",
    "hd720_nogui = hd720[ hd720['display'] == False ]\n",
    "\n",
    "vga = data[ data['resolution'] == 'VGA' ]\n",
    "vga_gui = vga[ vga['display'] == True ]\n",
    "vga_nogui = vga[ vga['display'] == False ]"
   ]
  },
  {
   "cell_type": "code",
   "execution_count": 32,
   "metadata": {
    "collapsed": false
   },
   "outputs": [
    {
     "name": "stdout",
     "output_type": "stream",
     "text": [
      "nom_fps        15.00000\n",
      "display         1.00000\n",
      "num_frames     54.20000\n",
      "duration       10.23575\n",
      "filesize      404.21020\n",
      "dtype: float64\n"
     ]
    }
   ],
   "source": [
    "hd1080_gui_mean = hd1080_gui.mean(0)\n",
    "print( hd1080_gui_mean )"
   ]
  },
  {
   "cell_type": "code",
   "execution_count": 63,
   "metadata": {
    "collapsed": false
   },
   "outputs": [
    {
     "data": {
      "text/plain": [
       "'HD1080'"
      ]
     },
     "execution_count": 63,
     "metadata": {},
     "output_type": "execute_result"
    }
   ],
   "source": [
    "hd1080_nogui.resolution[0]"
   ]
  },
  {
   "cell_type": "code",
   "execution_count": 91,
   "metadata": {
    "collapsed": false
   },
   "outputs": [
    {
     "name": "stdout",
     "output_type": "stream",
     "text": [
      "HD1080\n",
      "HD1080\n",
      "HD720\n",
      "HD720\n",
      "VGA\n",
      "VGA\n"
     ]
    }
   ],
   "source": [
    "for c in [hd1080_nogui, hd1080_gui, hd720_nogui, hd720_gui, vga, vga_gui]:\n",
    "    print(c.resolution.head(1).values[0])"
   ]
  },
  {
   "cell_type": "code",
   "execution_count": 93,
   "metadata": {
    "collapsed": false
   },
   "outputs": [
    {
     "name": "stdout",
     "output_type": "stream",
     "text": [
      "<tr><td> HD1080 </td><td> -- </td><td> 15.0 </td><td> 12.9135419944 </td><td> 355.9581 </td><td> 35.4408625489 </td><td> 2.74447262914 </td></tr>\n",
      "<tr><td> HD1080 </td><td> VNC </td><td> 15.0 </td><td> 5.29516645092 </td><td> 404.2102 </td><td> 39.4900422539 </td><td> 7.45775276753 </td></tr>\n",
      "<tr><td> HD720 </td><td> -- </td><td> 30.0 </td><td> 26.1614965853 </td><td> 343.8303 </td><td> 34.319401829 </td><td> 1.31182869134 </td></tr>\n",
      "<tr><td> HD720 </td><td> VNC </td><td> 30.0 </td><td> 11.5067925911 </td><td> 341.7209 </td><td> 34.0148055392 </td><td> 2.95606314879 </td></tr>\n",
      "<tr><td> VGA </td><td> -- </td><td> 60.0 </td><td> 36.5160894882 </td><td> 384.03105 </td><td> 37.6616414343 </td><td> 1.03137115617 </td></tr>\n",
      "<tr><td> VGA </td><td> VNC </td><td> 60.0 </td><td> 23.9628071047 </td><td> 290.7481 </td><td> 27.9917261404 </td><td> 1.1681321816 </td></tr>\n"
     ]
    }
   ],
   "source": [
    "for c in [hd1080_nogui, hd1080_gui, hd720_nogui, hd720_gui, vga, vga_gui]:\n",
    "    m = c.mean(0)\n",
    "    m.resolution = c['resolution'].head(1).values[0]\n",
    "    print(\"<tr><td>\",\n",
    "          m.resolution,\"</td><td>\",\n",
    "          (\"VNC\" if m.display == 1 else \"--\"),\"</td><td>\",\n",
    "          m.nom_fps,\"</td><td>\",\n",
    "          m.num_frames/m.duration,\"</td><td>\",\n",
    "          m.filesize,\"</td><td>\",\n",
    "          m.filesize/m.duration,\"</td><td>\",\n",
    "          m.filesize/m.num_frames,\"</td></tr>\" )"
   ]
  },
  {
   "cell_type": "code",
   "execution_count": null,
   "metadata": {
    "collapsed": true
   },
   "outputs": [],
   "source": []
  }
 ],
 "metadata": {
  "kernelspec": {
   "display_name": "Python 3",
   "language": "python",
   "name": "python3"
  },
  "language_info": {
   "codemirror_mode": {
    "name": "ipython",
    "version": 3
   },
   "file_extension": ".py",
   "mimetype": "text/x-python",
   "name": "python",
   "nbconvert_exporter": "python",
   "pygments_lexer": "ipython3",
   "version": "3.5.1"
  }
 },
 "nbformat": 4,
 "nbformat_minor": 0
}
